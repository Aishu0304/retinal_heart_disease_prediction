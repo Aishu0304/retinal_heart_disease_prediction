{
  "nbformat": 4,
  "nbformat_minor": 0,
  "metadata": {
    "colab": {
      "provenance": []
    },
    "kernelspec": {
      "name": "python3",
      "display_name": "Python 3"
    },
    "language_info": {
      "name": "python"
    }
  },
  "cells": [
    {
      "cell_type": "code",
      "execution_count": 5,
      "metadata": {
        "colab": {
          "base_uri": "https://localhost:8080/"
        },
        "id": "wtRyScIDunRa",
        "outputId": "f337f092-b80f-47f6-9b9c-ed9eff1324f5"
      },
      "outputs": [
        {
          "output_type": "stream",
          "name": "stdout",
          "text": [
            "1/1 [==============================] - 1s 712ms/step\n",
            "High risk of heart attack\n"
          ]
        }
      ],
      "source": [
        "import tensorflow as tf\n",
        "from tensorflow.keras.preprocessing import image\n",
        "import numpy as np\n",
        "\n",
        "# Load a pre-trained CNN model (e.g., VGG16)\n",
        "base_model = tf.keras.applications.VGG16(weights='imagenet', include_top=False)\n",
        "model = tf.keras.Sequential([\n",
        "    base_model,\n",
        "    tf.keras.layers.GlobalAveragePooling2D(),\n",
        "    tf.keras.layers.Dense(1, activation='sigmoid')\n",
        "])\n",
        "\n",
        "# Load your retina image for prediction\n",
        "image_path = '/content/1343_left.jpeg'  # Replace with the path to your image\n",
        "img = image.load_img(image_path, target_size=(224, 224))\n",
        "x = image.img_to_array(img)\n",
        "x = np.expand_dims(x, axis=0)\n",
        "x = tf.keras.applications.vgg16.preprocess_input(x)\n",
        "\n",
        "# Make the prediction\n",
        "prediction = model.predict(x)\n",
        "\n",
        "# Interpret the prediction\n",
        "if prediction[0][0] > 0.5:\n",
        "    print(\"High risk of heart attack\")\n",
        "else:\n",
        "    print(\"Low risk of heart attack\")\n"
      ]
    }
  ]
}